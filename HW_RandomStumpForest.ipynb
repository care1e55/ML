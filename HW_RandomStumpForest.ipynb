{
 "cells": [
  {
   "cell_type": "code",
   "execution_count": 37,
   "metadata": {},
   "outputs": [],
   "source": [
    "import math\n",
    "import numpy as np\n",
    "import warnings\n",
    "import matplotlib.pyplot as plt\n",
    "\n",
    "from sklearn.datasets import make_classification\n",
    "from sklearn.datasets import make_blobs\n",
    "\n",
    "from sklearn.metrics import accuracy_score\n",
    "\n",
    "warnings.filterwarnings(\"ignore\")\n",
    "%matplotlib inline\n",
    "\n",
    "from DecisionStumpModule import DecisionStump\n",
    "\n",
    "import logging\n",
    "import yaml\n",
    "from logging import config\n",
    "\n",
    "import collections"
   ]
  },
  {
   "cell_type": "code",
   "execution_count": 44,
   "metadata": {},
   "outputs": [],
   "source": [
    "class DecisionStump():\n",
    "\n",
    "    def __init__(self):\n",
    "        self.bestvalue = None\n",
    "        self.bestfeature  = None\n",
    "        self.bestsplit = None\n",
    "\n",
    "    def fit(self, X, y):\n",
    "        results2 = []\n",
    "        for f in X.T[:]:\n",
    "            results2.append(self.calcGini(f, y))\n",
    "        self.bestvalue, self.bestfeature, self.bestsplit = self.calcBest(results2)\n",
    "        return self\n",
    "\n",
    "    def predict(self, X):\n",
    "        return (X[:,self.bestfeature] > self.bestsplit).astype(int)\n",
    "\n",
    "    def calcGini(self, f, y):\n",
    "        results = []\n",
    "        for cur in range(math.ceil(np.min(f)), math.floor(np.max(f))):\n",
    "\n",
    "            # calc left split Gini\n",
    "            temp_X = f < cur\n",
    "            result_left, nl = self.calcSplit(temp_X, y, cur)\n",
    "\n",
    "            # calc right split Gini\n",
    "            temp_X = f > cur\n",
    "            result_right, nr = self.calcSplit(temp_X, y, cur)\n",
    "\n",
    "            weighted_result = result_left*nl + result_right*nr\n",
    "            results.append([weighted_result, cur])\n",
    "        return results\n",
    "\n",
    "    def calcSplit(self, temp_X, y, split):\n",
    "        n = temp_X.sum()\n",
    "        n1 = np.logical_and(temp_X, y).astype(int).sum()\n",
    "        n2 = n - n1\n",
    "\n",
    "        n1n = n1 / n\n",
    "        n2n = n2 / n\n",
    "\n",
    "        result = 1 - (math.pow(n1n, 2) + math.pow(n2n, 2))\n",
    "\n",
    "        return result, n/temp_X.shape[0]\n",
    "\n",
    "    def calcBest(self, results2):\n",
    "        featurenum = 0\n",
    "        results3 = []\n",
    "        for i in results2:\n",
    "            _i = np.array(i)[:, 0]\n",
    "            argminGini = _i.argmin()\n",
    "            minGini = _i[_i.argmin()]\n",
    "            Split = np.array(i)[argminGini, 1]\n",
    "            results3.append([argminGini, minGini, Split, featurenum])\n",
    "            featurenum += 1\n",
    "        results3 = np.array(results3)\n",
    "\n",
    "        bestfeature = results3[:,1].argmin()\n",
    "        bestvalue = results3[bestfeature, 1]\n",
    "        bestSplit = results3[bestfeature, 2]\n",
    "\n",
    "        return bestvalue, bestfeature, bestSplit"
   ]
  },
  {
   "cell_type": "code",
   "execution_count": 53,
   "metadata": {},
   "outputs": [],
   "source": [
    "class RandomStumpForest():\n",
    "    \n",
    "    def __init__(self):\n",
    "        self.stumps = []\n",
    "\n",
    "    def fit(self, X, y, nstumps=2, batch_size=10):\n",
    "        for X_batch, y_batch in self.bootstrap(X, y, nstumps, batch_size):\n",
    "            stump = DecisionStump().fit(X_batch, y_batch)\n",
    "            self.stumps.append(stump)\n",
    "        return self\n",
    "\n",
    "    def predict(self, X):\n",
    "        predicts = np.array([])\n",
    "        counter = 0\n",
    "        for stump in self.stumps:\n",
    "            predict = stump.predict(X)\n",
    "            if counter == 0:\n",
    "                predicts = predict\n",
    "            predicts = np.vstack((predicts, predict))\n",
    "            counter += 1\n",
    "        return self.upvote(predicts)\n",
    "\n",
    "    def bootstrap(self, X, y, nstumps, batch_size):\n",
    "        for i in range(nstumps):\n",
    "            np.random.seed(42)\n",
    "            perm = np.random.permutation(len(X))\n",
    "            X = X[perm]\n",
    "            y = y[perm]\n",
    "            X_batch, y_batch = X[0:batch_size], y[0:batch_size]\n",
    "            yield X_batch, y_batch\n",
    "\n",
    "    def upvote(self, predicts):\n",
    "        result = []\n",
    "        c = collections.Counter()\n",
    "        for i in predicts.T:\n",
    "            for j in i:\n",
    "                c[j] += 1\n",
    "            result.append(c.most_common(1)[0][0])\n",
    "            c.clear()\n",
    "        return np.array(result)"
   ]
  },
  {
   "cell_type": "code",
   "execution_count": 57,
   "metadata": {},
   "outputs": [
    {
     "name": "stdout",
     "output_type": "stream",
     "text": [
      "0.945\n"
     ]
    },
    {
     "data": {
      "image/png": "[encoded data removed]",
      "text/plain": [
       "<Figure size 432x288 with 1 Axes>"
      ]
     },
     "metadata": {
      "needs_background": "light"
     },
     "output_type": "display_data"
    }
   ],
   "source": [
    "X, y = make_classification(\n",
    "    n_samples=200,\n",
    "    n_features=2,\n",
    "    n_informative=2,\n",
    "    n_redundant=0,\n",
    "    n_clusters_per_class=2,\n",
    "    flip_y=0,\n",
    "    class_sep=1.5,\n",
    "    random_state=40,\n",
    ")\n",
    "\n",
    "n_classes = 2\n",
    "plot_colors = ['red', 'blue']\n",
    "\n",
    "clsf = RandomStumpForest().fit(X, y, nstumps=3, batch_size=10)\n",
    "Z = clsf.predict(X)\n",
    "\n",
    "# print(Z)\n",
    "# print(y)\n",
    "print(accuracy_score(y, Z))\n",
    "\n",
    "for i, color in zip(range(n_classes), plot_colors):\n",
    "    idx = np.where(y == i)\n",
    "    plt.scatter(X[idx, 0], X[idx, 1], c=color,\n",
    "                cmap=plt.cm.Paired);\n",
    "\n",
    "plt.show()"
   ]
  },
  {
   "cell_type": "code",
   "execution_count": null,
   "metadata": {},
   "outputs": [],
   "source": []
  },
  {
   "cell_type": "code",
   "execution_count": null,
   "metadata": {},
   "outputs": [],
   "source": []
  },
  {
   "cell_type": "code",
   "execution_count": null,
   "metadata": {},
   "outputs": [],
   "source": []
  },
  {
   "cell_type": "code",
   "execution_count": null,
   "metadata": {},
   "outputs": [],
   "source": []
  },
  {
   "cell_type": "code",
   "execution_count": null,
   "metadata": {},
   "outputs": [],
   "source": []
  },
  {
   "cell_type": "code",
   "execution_count": null,
   "metadata": {},
   "outputs": [],
   "source": []
  },
  {
   "cell_type": "code",
   "execution_count": null,
   "metadata": {},
   "outputs": [],
   "source": []
  }
 ],
 "metadata": {
  "kernelspec": {
   "display_name": "Python 3",
   "language": "python",
   "name": "python3"
  },
  "language_info": {
   "codemirror_mode": {
    "name": "ipython",
    "version": 3
   },
   "file_extension": ".py",
   "mimetype": "text/x-python",
   "name": "python",
   "nbconvert_exporter": "python",
   "pygments_lexer": "ipython3",
   "version": "3.7.3"
  }
 },
 "nbformat": 4,
 "nbformat_minor": 2
}
