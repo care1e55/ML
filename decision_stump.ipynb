{
 "cells": [
  {
   "cell_type": "code",
   "execution_count": 1,
   "metadata": {},
   "outputs": [],
   "source": [
    "import numpy as np\n",
    "import matplotlib.pyplot as plt\n",
    "import math\n",
    "import warnings\n",
    "\n",
    "from sklearn.datasets import make_classification\n",
    "\n",
    "warnings.filterwarnings(\"ignore\")\n",
    "%matplotlib inline"
   ]
  },
  {
   "cell_type": "code",
   "execution_count": 41,
   "metadata": {},
   "outputs": [],
   "source": [
    "class DecisionStump():\n",
    "\n",
    "    def __init__(self):\n",
    "        self.bestvalue = None\n",
    "        self.bestfeature  = None\n",
    "        self.bestsplit = None\n",
    "        self.class_flag = True\n",
    "\n",
    "    def fit(self, X, y):\n",
    "        results2 = []\n",
    "        for f in X.T[:]:\n",
    "            results2.append(self.calcGini(f, y))\n",
    "        self.bestvalue, self.bestfeature, self.bestsplit = self.calcBest(results2)\n",
    "        return self\n",
    "\n",
    "    def predict(self, X):\n",
    "        if self.class_flag == True:\n",
    "            return (X[:,self.bestfeature] < self.bestsplit).astype(int)\n",
    "        else:\n",
    "            return (X[:,self.bestfeature] > self.bestsplit).astype(int)\n",
    "\n",
    "    def calcGini(self, f, y):\n",
    "        results = []\n",
    "        for cur in range(math.ceil(np.min(f)), math.floor(np.max(f))):\n",
    "\n",
    "            # calc left split Gini\n",
    "            temp_X = f < cur\n",
    "            result_left, nl, flagl = self.calcSplit(temp_X, y, cur)\n",
    "\n",
    "            # calc right split Gini\n",
    "            temp_X = f > cur\n",
    "            result_right, nr, flagr = self.calcSplit(temp_X, y, cur)\n",
    "\n",
    "            weighted_result = result_left*nl + result_right*nr\n",
    "            results.append([weighted_result, cur, flagl])\n",
    "        return results\n",
    "\n",
    "    def calcSplit(self, temp_X, y, split):\n",
    "        n = temp_X.sum()\n",
    "        n1 = np.logical_and(temp_X, y).astype(int).sum()\n",
    "        n2 = n - n1\n",
    "\n",
    "        n1n = n1 / n\n",
    "        n2n = n2 / n\n",
    "\n",
    "        result = 1 - (math.pow(n1n, 2) + math.pow(n2n, 2))\n",
    "\n",
    "        return result, n/temp_X.shape[0], n1 > n2\n",
    "\n",
    "    def calcBest(self, results2):\n",
    "        featurenum = 0\n",
    "        results3 = []\n",
    "        for i in results2:\n",
    "            _i = np.array(i)[:, 0]\n",
    "            argminGini = _i.argmin()\n",
    "            minGini = _i[_i.argmin()]\n",
    "            Split = np.array(i)[argminGini, 1]\n",
    "            class_flag = np.array(i)[argminGini, 2]\n",
    "            results3.append([argminGini, minGini, Split, featurenum, class_flag])\n",
    "            featurenum += 1\n",
    "        results3 = np.array(results3)\n",
    "\n",
    "        bestfeature = results3[:,1].argmin()\n",
    "        bestvalue = results3[bestfeature, 1]\n",
    "        bestSplit = results3[bestfeature, 2]\n",
    "        \n",
    "        if results3[bestfeature, 4] == False:\n",
    "            self.class_flag = False\n",
    "\n",
    "        return bestvalue, bestfeature, bestSplit\n"
   ]
  },
  {
   "cell_type": "code",
   "execution_count": 59,
   "metadata": {},
   "outputs": [
    {
     "data": {
      "image/png": "[encoded data removed]",
      "text/plain": [
       "<Figure size 432x288 with 1 Axes>"
      ]
     },
     "metadata": {
      "needs_background": "light"
     },
     "output_type": "display_data"
    }
   ],
   "source": [
    "X, y = make_classification(\n",
    "    n_samples=1000,\n",
    "    n_features=2,\n",
    "    n_informative=2,\n",
    "    n_redundant=0,\n",
    "    n_clusters_per_class=1,\n",
    "    flip_y=0,\n",
    "    class_sep=1.5,\n",
    "    random_state=42,\n",
    ")\n",
    "\n",
    "n_classes = 2\n",
    "plot_colors = ['g', 'gold']\n",
    "\n",
    "clf = DecisionStump().fit(X, y)\n",
    "Z = clf.predict(X)\n",
    "\n",
    "# print(y)\n",
    "# print(Z)\n",
    "\n",
    "if clf.bestfeature == 0:\n",
    "    plt.axvline(clf.bestsplit, color='r', linestyle='-')\n",
    "\n",
    "if clf.bestfeature == 1:\n",
    "    plt.axhline(clf.bestsplit, color='r', linestyle='-')\n",
    "\n",
    "for i, color in zip(range(n_classes), ['g', 'gold']):\n",
    "    idx = np.where(y == i)\n",
    "    plt.scatter(X[idx, 0], X[idx, 1], c=color,\n",
    "                cmap=plt.cm.Paired);\n",
    "\n",
    "plt.show()\n",
    "\n"
   ]
  },
  {
   "cell_type": "code",
   "execution_count": null,
   "metadata": {},
   "outputs": [],
   "source": []
  },
  {
   "cell_type": "code",
   "execution_count": null,
   "metadata": {},
   "outputs": [],
   "source": []
  },
  {
   "cell_type": "code",
   "execution_count": null,
   "metadata": {},
   "outputs": [],
   "source": []
  },
  {
   "cell_type": "code",
   "execution_count": null,
   "metadata": {},
   "outputs": [],
   "source": []
  },
  {
   "cell_type": "code",
   "execution_count": null,
   "metadata": {},
   "outputs": [],
   "source": []
  },
  {
   "cell_type": "code",
   "execution_count": null,
   "metadata": {},
   "outputs": [],
   "source": []
  },
  {
   "cell_type": "code",
   "execution_count": null,
   "metadata": {},
   "outputs": [],
   "source": []
  },
  {
   "cell_type": "code",
   "execution_count": null,
   "metadata": {},
   "outputs": [],
   "source": []
  },
  {
   "cell_type": "code",
   "execution_count": null,
   "metadata": {},
   "outputs": [],
   "source": []
  }
 ],
 "metadata": {
  "kernelspec": {
   "display_name": "Python 3",
   "language": "python",
   "name": "python3"
  },
  "language_info": {
   "codemirror_mode": {
    "name": "ipython",
    "version": 3
   },
   "file_extension": ".py",
   "mimetype": "text/x-python",
   "name": "python",
   "nbconvert_exporter": "python",
   "pygments_lexer": "ipython3",
   "version": "3.7.3"
  }
 },
 "nbformat": 4,
 "nbformat_minor": 2
}
