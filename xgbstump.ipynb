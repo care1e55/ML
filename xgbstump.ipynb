{
 "cells": [
  {
   "cell_type": "code",
   "execution_count": 323,
   "metadata": {},
   "outputs": [],
   "source": [
    "import math\n",
    "import numpy as np\n",
    "import pandas as pd\n",
    "import warnings\n",
    "import matplotlib.pyplot as plt\n",
    "\n",
    "from sklearn.datasets import make_classification\n",
    "from sklearn.datasets import make_regression\n",
    "from sklearn.datasets import make_blobs\n",
    "\n",
    "from sklearn.metrics import accuracy_score\n",
    "\n",
    "warnings.filterwarnings(\"ignore\")\n",
    "%matplotlib inline\n",
    "\n",
    "\n",
    "import logging\n",
    "import yaml\n",
    "from logging import config\n",
    "\n",
    "import collections"
   ]
  },
  {
   "cell_type": "code",
   "execution_count": 321,
   "metadata": {},
   "outputs": [],
   "source": [
    "class DecisionStump():\n",
    "    \n",
    "    def __init__(self, original_X, original_y, n_features = 1, n_thresholds = 40):\n",
    "        self.original_X = original_X \n",
    "        self.original_y = original_y\n",
    "        self.n_features = n_features\n",
    "        self.n_thresholds = n_thresholds\n",
    "        self.best_threshhold = None\n",
    "        self.best_MSE = None\n",
    "        self.l_mean = None\n",
    "        self.r_mean = None\n",
    "\n",
    "    def SE(self, a, b):\n",
    "        return (a - b)**2\n",
    "\n",
    "    def split_feature(self, x, y):\n",
    "        '''\n",
    "        Splits single feature, minimizing MSE\n",
    "        '''\n",
    "        xmin = np.min(x)\n",
    "        xmax = np.max(x)\n",
    "        thresholds = np.linspace(xmin, xmax, self.n_thresholds + 2)\n",
    "        MSE = []\n",
    "        for t in thresholds[1:-2]:\n",
    "            L = y[np.squeeze(x <= t)]\n",
    "            R = y[np.squeeze(x > t)]\n",
    "            n_l = len(L)\n",
    "            n_r = len(R)\n",
    "            n = n_l + n_r\n",
    "            mse = n_l / n * ((L - L.mean())**2).sum() + n_r / n * ((R - R.mean())**2).sum()\n",
    "            MSE.append(mse)\n",
    "        best_index = np.argmin(MSE)\n",
    "        return MSE[best_index], thresholds[best_index + 1]\n",
    "\n",
    "\n",
    "    def fit(self, X, y):\n",
    "        self.best_MSE, self.best_threshhold = self.split_feature(X, y)\n",
    "        self.l_mean = y[np.squeeze(X <= self.best_threshhold)].mean()\n",
    "        self.r_mean = y[np.squeeze(X > self.best_threshhold)].mean()\n",
    "        return self\n",
    "\n",
    "    def predict(self, X, y = None):\n",
    "        lam = lambda x: self.l_mean if x<=self.best_threshhold else self.r_mean\n",
    "        y = np.array([lam(xi) for xi in X])\n",
    "        return y\n",
    "\n",
    "    def predictone(self, x, y = None):\n",
    "        if x<=self.best_threshhold:\n",
    "            return self.original_y[np.squeeze(self.original_X <= self.best_threshhold)].mean()\n",
    "        else:\n",
    "            return self.original_y[np.squeeze(self.original_X > self.best_threshhold)].mean()\n",
    "            "
   ]
  },
  {
   "cell_type": "code",
   "execution_count": 322,
   "metadata": {},
   "outputs": [],
   "source": [
    "class myXGB:\n",
    "    \n",
    "    def __init__(self, X, y, n_estimators = 8):\n",
    "        self.n_estimators = n_estimators\n",
    "        self.estimators = []\n",
    "        self.ys = []\n",
    "        for i in range(self.n_estimators):\n",
    "            self.estimators.append(DecisionStump(X, y))\n",
    "            \n",
    "    \n",
    "    def fit(self, X, y):\n",
    "        for estimator in self.estimators:\n",
    "            self.ys.append(y)\n",
    "            estimator.fit(X, y)\n",
    "            y_pred = estimator.predict(X, y)\n",
    "            y = y - y_pred\n",
    "        return self\n",
    "    \n",
    "    def predict(self, X):\n",
    "        y = np.zeros(X.shape[0])\n",
    "        for j, xi in enumerate(X):\n",
    "            for i, estimator in enumerate(\n",
    "                                sorted(self.estimators, \n",
    "                                key=lambda x: x.best_threshhold, \n",
    "                                reverse=False)):\n",
    "                if xi <= estimator.best_threshhold and y[j]==0:\n",
    "                    y[j] = estimator.predictone(xi)\n",
    "                    break\n",
    "                elif ((i+1 != len(self.estimators)) and (xi <= self.estimators[i+1].best_threshhold) and y[j]==0):\n",
    "                    y[j] = estimator.predictone(xi)\n",
    "                    break\n",
    "                elif ((i+1 == len(self.estimators)) and (xi > estimator.best_threshhold) and y[j]==0):\n",
    "                    y[j] = estimator.predictone(xi)\n",
    "                    break\n",
    "                else:\n",
    "                    pass\n",
    "        return y"
   ]
  },
  {
   "cell_type": "code",
   "execution_count": 316,
   "metadata": {},
   "outputs": [],
   "source": [
    "X = np.linspace(0,10,300)[:, np.newaxis]\n",
    "random = np.random.RandomState(42)\n",
    "noise = np.concatenate((random.normal(scale=.2,size=(100,1)), random.normal(scale=.5,size=(200,1))))\n",
    "y = np.concatenate((np.zeros((100,1))+2, np.sin(0.5*X[100:200])+3, X[200:300]-4.2, ) ) + noise\n",
    "y = y.reshape(-1)"
   ]
  },
  {
   "cell_type": "code",
   "execution_count": 317,
   "metadata": {},
   "outputs": [],
   "source": [
    "modelXGB = myXGB(X,y).fit(X,y)\n",
    "y_pred_1 = modelXGB.predict(X)"
   ]
  },
  {
   "cell_type": "code",
   "execution_count": 318,
   "metadata": {},
   "outputs": [
    {
     "name": "stdout",
     "output_type": "stream",
     "text": [
      "3.4146341463414633 114.79065251896583\n",
      "5.609756097560975 48.5472652417407\n",
      "6.341463414634147 46.39496133171093\n",
      "6.585365853658536 46.47758359059551\n",
      "6.585365853658536 46.282335684612995\n",
      "6.585365853658536 46.282335684612995\n",
      "6.585365853658536 46.282335684612995\n",
      "7.804878048780488 66.68312369001123\n"
     ]
    }
   ],
   "source": [
    "for i in sorted(modelXGB.estimators, \n",
    "                                key=lambda x: x.best_threshhold, \n",
    "                                reverse=False):\n",
    "    print(i.best_threshhold, i.best_MSE)"
   ]
  },
  {
   "cell_type": "code",
   "execution_count": 319,
   "metadata": {},
   "outputs": [
    {
     "data": {
      "image/png": "[encoded data removed]",
      "text/plain": [
       "<Figure size 432x288 with 1 Axes>"
      ]
     },
     "metadata": {
      "needs_background": "light"
     },
     "output_type": "display_data"
    }
   ],
   "source": [
    "plt.plot(X, y_pred_1,\n",
    "           c='r',\n",
    "           label='1st tree ($T_1$) prediction');"
   ]
  },
  {
   "cell_type": "code",
   "execution_count": 320,
   "metadata": {},
   "outputs": [
    {
     "data": {
      "image/png": "[encoded data removed]",
      "text/plain": [
       "<Figure size 432x288 with 1 Axes>"
      ]
     },
     "metadata": {
      "needs_background": "light"
     },
     "output_type": "display_data"
    }
   ],
   "source": [
    "plt.scatter(X, y, color='blue', marker='.', label='Salary')\n",
    "plt.plot(X, y_pred_1,\n",
    "           c='r',\n",
    "           label='1st tree ($T_1$) prediction');\n",
    "plt.show()"
   ]
  },
  {
   "cell_type": "code",
   "execution_count": null,
   "metadata": {},
   "outputs": [],
   "source": []
  },
  {
   "cell_type": "code",
   "execution_count": null,
   "metadata": {},
   "outputs": [],
   "source": []
  },
  {
   "cell_type": "code",
   "execution_count": null,
   "metadata": {},
   "outputs": [],
   "source": []
  },
  {
   "cell_type": "code",
   "execution_count": null,
   "metadata": {},
   "outputs": [],
   "source": []
  },
  {
   "cell_type": "code",
   "execution_count": null,
   "metadata": {},
   "outputs": [],
   "source": []
  },
  {
   "cell_type": "code",
   "execution_count": null,
   "metadata": {},
   "outputs": [],
   "source": []
  },
  {
   "cell_type": "code",
   "execution_count": null,
   "metadata": {},
   "outputs": [],
   "source": []
  },
  {
   "cell_type": "code",
   "execution_count": null,
   "metadata": {},
   "outputs": [],
   "source": []
  },
  {
   "cell_type": "code",
   "execution_count": null,
   "metadata": {},
   "outputs": [],
   "source": []
  },
  {
   "cell_type": "code",
   "execution_count": null,
   "metadata": {},
   "outputs": [],
   "source": []
  },
  {
   "cell_type": "code",
   "execution_count": null,
   "metadata": {},
   "outputs": [],
   "source": []
  },
  {
   "cell_type": "code",
   "execution_count": null,
   "metadata": {},
   "outputs": [],
   "source": []
  },
  {
   "cell_type": "code",
   "execution_count": null,
   "metadata": {},
   "outputs": [],
   "source": []
  },
  {
   "cell_type": "code",
   "execution_count": null,
   "metadata": {},
   "outputs": [],
   "source": []
  }
 ],
 "metadata": {
  "kernelspec": {
   "display_name": "Python 3",
   "language": "python",
   "name": "python3"
  },
  "language_info": {
   "codemirror_mode": {
    "name": "ipython",
    "version": 3
   },
   "file_extension": ".py",
   "mimetype": "text/x-python",
   "name": "python",
   "nbconvert_exporter": "python",
   "pygments_lexer": "ipython3",
   "version": "3.7.3"
  }
 },
 "nbformat": 4,
 "nbformat_minor": 2
}
