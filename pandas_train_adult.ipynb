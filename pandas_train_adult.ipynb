{
 "cells": [
  {
   "cell_type": "code",
   "execution_count": 1,
   "metadata": {},
   "outputs": [],
   "source": [
    "import numpy as np\n",
    "import pandas as pd\n",
    "%matplotlib inline \n",
    "import matplotlib.pyplot as plt\n",
    "import seaborn as sns\n",
    "\n",
    "import warnings\n",
    "warnings.filterwarnings('ignore')"
   ]
  },
  {
   "cell_type": "code",
   "execution_count": 5,
   "metadata": {},
   "outputs": [
    {
     "data": {
      "text/html": "<div>\n<style scoped>\n    .dataframe tbody tr th:only-of-type {\n        vertical-align: middle;\n    }\n\n    .dataframe tbody tr th {\n        vertical-align: top;\n    }\n\n    .dataframe thead th {\n        text-align: right;\n    }\n</style>\n<table border=\"1\" class=\"dataframe\">\n  <thead>\n    <tr style=\"text-align: right;\">\n      <th></th>\n      <th>age</th>\n      <th>workclass</th>\n      <th>fnlwgt</th>\n      <th>education</th>\n      <th>education-num</th>\n      <th>marital-status</th>\n      <th>occupation</th>\n      <th>relationship</th>\n      <th>race</th>\n      <th>sex</th>\n      <th>capital-gain</th>\n      <th>capital-loss</th>\n      <th>hours-per-week</th>\n      <th>native-country</th>\n      <th>salary</th>\n    </tr>\n  </thead>\n  <tbody>\n    <tr>\n      <th>0</th>\n      <td>39</td>\n      <td>State-gov</td>\n      <td>77516</td>\n      <td>Bachelors</td>\n      <td>13</td>\n      <td>Never-married</td>\n      <td>Adm-clerical</td>\n      <td>Not-in-family</td>\n      <td>White</td>\n      <td>Male</td>\n      <td>2174</td>\n      <td>0</td>\n      <td>40</td>\n      <td>United-States</td>\n      <td>&lt;=50K</td>\n    </tr>\n    <tr>\n      <th>1</th>\n      <td>50</td>\n      <td>Self-emp-not-inc</td>\n      <td>83311</td>\n      <td>Bachelors</td>\n      <td>13</td>\n      <td>Married-civ-spouse</td>\n      <td>Exec-managerial</td>\n      <td>Husband</td>\n      <td>White</td>\n      <td>Male</td>\n      <td>0</td>\n      <td>0</td>\n      <td>13</td>\n      <td>United-States</td>\n      <td>&lt;=50K</td>\n    </tr>\n    <tr>\n      <th>2</th>\n      <td>38</td>\n      <td>Private</td>\n      <td>215646</td>\n      <td>HS-grad</td>\n      <td>9</td>\n      <td>Divorced</td>\n      <td>Handlers-cleaners</td>\n      <td>Not-in-family</td>\n      <td>White</td>\n      <td>Male</td>\n      <td>0</td>\n      <td>0</td>\n      <td>40</td>\n      <td>United-States</td>\n      <td>&lt;=50K</td>\n    </tr>\n    <tr>\n      <th>3</th>\n      <td>53</td>\n      <td>Private</td>\n      <td>234721</td>\n      <td>11th</td>\n      <td>7</td>\n      <td>Married-civ-spouse</td>\n      <td>Handlers-cleaners</td>\n      <td>Husband</td>\n      <td>Black</td>\n      <td>Male</td>\n      <td>0</td>\n      <td>0</td>\n      <td>40</td>\n      <td>United-States</td>\n      <td>&lt;=50K</td>\n    </tr>\n    <tr>\n      <th>4</th>\n      <td>28</td>\n      <td>Private</td>\n      <td>338409</td>\n      <td>Bachelors</td>\n      <td>13</td>\n      <td>Married-civ-spouse</td>\n      <td>Prof-specialty</td>\n      <td>Wife</td>\n      <td>Black</td>\n      <td>Female</td>\n      <td>0</td>\n      <td>0</td>\n      <td>40</td>\n      <td>Cuba</td>\n      <td>&lt;=50K</td>\n    </tr>\n  </tbody>\n</table>\n</div>",
      "text/plain": "   age         workclass  fnlwgt  education  education-num  \\\n0   39         State-gov   77516  Bachelors             13   \n1   50  Self-emp-not-inc   83311  Bachelors             13   \n2   38           Private  215646    HS-grad              9   \n3   53           Private  234721       11th              7   \n4   28           Private  338409  Bachelors             13   \n\n       marital-status         occupation   relationship   race     sex  \\\n0       Never-married       Adm-clerical  Not-in-family  White    Male   \n1  Married-civ-spouse    Exec-managerial        Husband  White    Male   \n2            Divorced  Handlers-cleaners  Not-in-family  White    Male   \n3  Married-civ-spouse  Handlers-cleaners        Husband  Black    Male   \n4  Married-civ-spouse     Prof-specialty           Wife  Black  Female   \n\n   capital-gain  capital-loss  hours-per-week native-country salary  \n0          2174             0              40  United-States  <=50K  \n1             0             0              13  United-States  <=50K  \n2             0             0              40  United-States  <=50K  \n3             0             0              40  United-States  <=50K  \n4             0             0              40           Cuba  <=50K  "
     },
     "execution_count": 5,
     "metadata": {},
     "output_type": "execute_result"
    }
   ],
   "source": [
    "data = pd.read_csv('/storage/Study/DBO/ml/day5/adult.data.csv')\n",
    "data.head()"
   ]
  },
  {
   "cell_type": "code",
   "execution_count": 9,
   "metadata": {},
   "outputs": [
    {
     "data": {
      "text/plain": "Index(['age', 'workclass', 'fnlwgt', 'education', 'education-num',\n       'marital-status', 'occupation', 'relationship', 'race', 'sex',\n       'capital-gain', 'capital-loss', 'hours-per-week', 'native-country',\n       'salary'],\n      dtype='object')"
     },
     "execution_count": 9,
     "metadata": {},
     "output_type": "execute_result"
    }
   ],
   "source": [
    "data.columns"
   ]
  },
  {
   "cell_type": "markdown",
   "metadata": {},
   "source": [
    "**1.Сколько мужчин и женщин в этом наборе данных?** "
   ]
  },
  {
   "cell_type": "code",
   "execution_count": 12,
   "metadata": {},
   "outputs": [
    {
     "data": {
      "text/plain": "Male      21790\nFemale    10771\nName: sex, dtype: int64"
     },
     "execution_count": 12,
     "metadata": {},
     "output_type": "execute_result"
    }
   ],
   "source": [
    "data['sex'].value_counts()"
   ]
  },
  {
   "cell_type": "markdown",
   "metadata": {},
   "source": [
    "**2. Каков средний возраст женщин?**"
   ]
  },
  {
   "cell_type": "code",
   "execution_count": 21,
   "metadata": {},
   "outputs": [
    {
     "data": {
      "text/plain": "37"
     },
     "execution_count": 21,
     "metadata": {},
     "output_type": "execute_result"
    }
   ],
   "source": [
    "round(data[data['sex'] == 'Female']['age'].mean())"
   ]
  },
  {
   "cell_type": "markdown",
   "metadata": {},
   "source": [
    "**3. Какова доля людей чьей родиной является Германия?**"
   ]
  },
  {
   "cell_type": "code",
   "execution_count": 34,
   "metadata": {},
   "outputs": [
    {
     "data": {
      "text/plain": "0.004207487485028101"
     },
     "execution_count": 34,
     "metadata": {},
     "output_type": "execute_result"
    }
   ],
   "source": [
    "data[data['native-country'] == 'Germany'].shape[0]/data.shape[0]"
   ]
  },
  {
   "cell_type": "markdown",
   "metadata": {},
   "source": [
    "**4-5. Посчитайте среднее и стандартное отклонения возраста людей, которые зарабатывают более 50 тысяч в год. То же для тех кто зарабатывает менее 50 тысяч**"
   ]
  },
  {
   "cell_type": "code",
   "execution_count": 61,
   "metadata": {},
   "outputs": [
    {
     "name": "stdout",
     "output_type": "stream",
     "text": "\n    mean >50k:  44\n    std >50k:  10\n    mean <=50k:  36\n    std <=50k:  14\n    \n"
    }
   ],
   "source": [
    "mean_more50 = data[data['salary'] == '>50K']['age'].mean()\n",
    "std_more50 = data[data['salary'] == '>50K']['age'].std()\n",
    "mean_less50 = data[data['salary'] == '<=50K']['age'].mean()\n",
    "std_less50 = data[data['salary'] == '<=50K']['age'].std()\n",
    "\n",
    "print( \n",
    "    '''\n",
    "    mean >50k: %3d\n",
    "    std >50k: %3d\n",
    "    mean <=50k: %3d\n",
    "    std <=50k: %3d\n",
    "    ''' %\n",
    "    (mean_more50, std_more50, mean_less50, std_less50))\n"
   ]
  },
  {
   "cell_type": "markdown",
   "metadata": {},
   "source": [
    "**6. Правда ли что все кто зарабатывает более 50 тысяч в год имеют высшее образование (Бакалавр и выше)**"
   ]
  },
  {
   "cell_type": "code",
   "execution_count": 78,
   "metadata": {},
   "outputs": [
    {
     "name": "stdout",
     "output_type": "stream",
     "text": "False\n"
    }
   ],
   "source": [
    "if data[(data['salary'] == '>50K') & (data['education-num'] < 13)].shape[0] != 0:\n",
    "    print('False')"
   ]
  },
  {
   "cell_type": "markdown",
   "metadata": {},
   "source": [
    "**7. Выведите статистику по возрасту для представителей всех рас (race) сгруппировав их по полу.\n",
    "Каков максимальный возраст мужчины расы Amer-Indian-Eskimo.**"
   ]
  },
  {
   "cell_type": "code",
   "execution_count": 97,
   "metadata": {},
   "outputs": [
    {
     "name": "stdout",
     "output_type": "stream",
     "text": "min       mean  max  count\nrace                                          \nAmer-Indian-Eskimo   17  37.173633   82    311\nAsian-Pac-Islander   17  37.746872   90   1039\nBlack                17  37.767926   90   3124\nOther                17  33.457565   77    271\nWhite                17  38.769881   90  27816\n"
    },
    {
     "data": {
      "text/plain": "82"
     },
     "execution_count": 97,
     "metadata": {},
     "output_type": "execute_result"
    }
   ],
   "source": [
    "print(data.groupby('race').age.agg(['min','mean','max', 'count']))\n",
    "data.groupby('race').age.agg('max')['Amer-Indian-Eskimo']"
   ]
  },
  {
   "cell_type": "markdown",
   "metadata": {},
   "source": [
    "**8.Кто зарабатывает больше, женатый или не женатый мужчина?**"
   ]
  },
  {
   "cell_type": "code",
   "execution_count": 185,
   "metadata": {},
   "outputs": [
    {
     "name": "stdout",
     "output_type": "stream",
     "text": "\n    single: 4997101\n    married: 23969873\n    \nMarried\n"
    }
   ],
   "source": [
    "married = data[\n",
    "(data['sex'] == 'Male') & \\\n",
    "(data['marital-status'].isin(['Married-civ-spouse',\n",
    "'Married-spouse-absent',\n",
    "'Married-AF-spouse']))] \\\n",
    ".groupby('marital-status')['capital-gain'].agg('sum').sum()\n",
    "\n",
    "single = data[\n",
    "(data['sex'] == 'Male') & \\\n",
    "(data['marital-status'].isin(\n",
    "['Never-married',\n",
    "'Divorced',\n",
    "'Separated',\n",
    "'Widowed']\n",
    "))] \\\n",
    ".groupby('marital-status')['capital-gain'].agg('sum').sum()\n",
    "\n",
    "print( \n",
    "    '''\n",
    "    single: %3d\n",
    "    married: %3d\n",
    "    ''' %\n",
    "    (single, married))\n",
    "\n",
    "if single > married:\n",
    "    print('Single')\n",
    "else:\n",
    "    print('Married')"
   ]
  },
  {
   "cell_type": "markdown",
   "metadata": {},
   "source": [
    "**9. Сколько людей работают максимальное количество часов в неделю (и сколько это часов)? Как много среди них тех кто зарабатывает более 50 тысяч?**"
   ]
  },
  {
   "cell_type": "code",
   "execution_count": 180,
   "metadata": {},
   "outputs": [
    {
     "name": "stdout",
     "output_type": "stream",
     "text": "\n    max_hours_count:  85\n    max_hours_count_more50:  25\n    \n"
    }
   ],
   "source": [
    "max_hours_count = data[data['hours-per-week'] == data['hours-per-week'].max()].shape[0]\n",
    "\n",
    "max_hours_count_more50 = data[data['hours-per-week'] == data['hours-per-week'].max()][data['salary'] == '>50K'].shape[0]\n",
    "\n",
    "print( \n",
    "    '''\n",
    "    max_hours_count: %3d\n",
    "    max_hours_count_more50: %3d\n",
    "    ''' %\n",
    "    (max_hours_count, max_hours_count_more50))\n"
   ]
  },
  {
   "cell_type": "markdown",
   "metadata": {},
   "source": [
    "**10. Посчитайте среднее количество рабочих часов в неделю для людей с зарплатой более 50 тысяч и для людей с зарплатой менее 50 тысяч для каждой страны. Сколько в среднем работают в Японии?**"
   ]
  },
  {
   "cell_type": "code",
   "execution_count": 202,
   "metadata": {},
   "outputs": [
    {
     "data": {
      "text/plain": "United-States                 29170\nMexico                          643\n?                               583\nPhilippines                     198\nGermany                         137\nCanada                          121\nPuerto-Rico                     114\nEl-Salvador                     106\nIndia                           100\nCuba                             95\nEngland                          90\nJamaica                          81\nSouth                            80\nChina                            75\nItaly                            73\nDominican-Republic               70\nVietnam                          67\nGuatemala                        64\nJapan                            62\nPoland                           60\nColumbia                         59\nTaiwan                           51\nHaiti                            44\nIran                             43\nPortugal                         37\nNicaragua                        34\nPeru                             31\nFrance                           29\nGreece                           29\nEcuador                          28\nIreland                          24\nHong                             20\nCambodia                         19\nTrinadad&Tobago                  19\nLaos                             18\nThailand                         18\nYugoslavia                       16\nOutlying-US(Guam-USVI-etc)       14\nHonduras                         13\nHungary                          13\nScotland                         12\nHoland-Netherlands                1\nName: native-country, dtype: int64"
     },
     "execution_count": 202,
     "metadata": {},
     "output_type": "execute_result"
    }
   ],
   "source": [
    "data['native-country'].value_counts()"
   ]
  },
  {
   "cell_type": "code",
   "execution_count": 217,
   "metadata": {},
   "outputs": [
    {
     "name": "stdout",
     "output_type": "stream",
     "text": "Japan:\n43.69\n===more than 50k: ===\nnative-country\n?                     45.547945\nCambodia              40.000000\nCanada                45.641026\nChina                 38.900000\nColumbia              50.000000\nCuba                  42.440000\nDominican-Republic    47.000000\nEcuador               48.750000\nEl-Salvador           45.000000\nEngland               44.533333\nFrance                50.750000\nGermany               44.977273\nGreece                50.625000\nGuatemala             36.666667\nHaiti                 42.750000\nHonduras              60.000000\nHong                  45.000000\nHungary               50.000000\nIndia                 46.475000\nIran                  47.500000\nIreland               48.000000\nItaly                 45.400000\nJamaica               41.100000\nJapan                 47.958333\nLaos                  40.000000\nMexico                46.575758\nNicaragua             37.500000\nPeru                  40.000000\nPhilippines           43.032787\nPoland                39.000000\nPortugal              41.500000\nPuerto-Rico           39.416667\nScotland              46.666667\nSouth                 51.437500\nTaiwan                46.800000\nThailand              58.333333\nTrinadad&Tobago       40.000000\nUnited-States         45.505369\nVietnam               39.200000\nYugoslavia            49.500000\nName: hours-per-week, dtype: float64\n===less than 50k: ===\nnative-country\n?                             40.164760\nCambodia                      41.416667\nCanada                        37.914634\nChina                         37.381818\nColumbia                      38.684211\nCuba                          37.985714\nDominican-Republic            42.338235\nEcuador                       38.041667\nEl-Salvador                   36.030928\nEngland                       40.483333\nFrance                        41.058824\nGermany                       39.139785\nGreece                        41.809524\nGuatemala                     39.360656\nHaiti                         36.325000\nHoland-Netherlands            40.000000\nHonduras                      34.333333\nHong                          39.142857\nHungary                       31.300000\nIndia                         38.233333\nIran                          41.440000\nIreland                       40.947368\nItaly                         39.625000\nJamaica                       38.239437\nJapan                         41.000000\nLaos                          40.375000\nMexico                        40.003279\nNicaragua                     36.093750\nOutlying-US(Guam-USVI-etc)    41.857143\nPeru                          35.068966\nPhilippines                   38.065693\nPoland                        38.166667\nPortugal                      41.939394\nPuerto-Rico                   38.470588\nScotland                      39.444444\nSouth                         40.156250\nTaiwan                        33.774194\nThailand                      42.866667\nTrinadad&Tobago               37.058824\nUnited-States                 38.799127\nVietnam                       37.193548\nYugoslavia                    41.600000\nName: hours-per-week, dtype: float64\n"
    }
   ],
   "source": [
    "more50 = data[data['salary'] == '>50K'].groupby('native-country')['hours-per-week'].mean()\n",
    "less50 = data[data['salary'] == '<=50K'].groupby('native-country')['hours-per-week'].mean()\n",
    "japan = data[data['native-country'] == 'Japan'].groupby('native-country')['hours-per-week'].mean().values[0]\n",
    "\n",
    "print(\"Japan:\")\n",
    "print(round(japan,2))\n",
    "print(\"===more than 50k: ===\")\n",
    "print(more50)\n",
    "print(\"===less than 50k: ===\")\n",
    "print(less50)\n"
   ]
  }
 ],
 "metadata": {
  "anaconda-cloud": {},
  "kernelspec": {
   "display_name": "Python 3",
   "language": "python",
   "name": "python3"
  },
  "language_info": {
   "codemirror_mode": {
    "name": "ipython",
    "version": 3
   },
   "file_extension": ".py",
   "mimetype": "text/x-python",
   "name": "python",
   "nbconvert_exporter": "python",
   "pygments_lexer": "ipython3",
   "version": "3.7.3"
  }
 },
 "nbformat": 4,
 "nbformat_minor": 1
}